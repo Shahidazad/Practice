{
 "cells": [
  {
   "cell_type": "code",
   "execution_count": 1,
   "id": "9c61ed2b",
   "metadata": {},
   "outputs": [],
   "source": [
    "# importing packages\n",
    "import pandas as pd\n",
    "import numpy as np\n",
    "import matplotlib.pyplot as plt\n",
    "import seaborn as sns\n",
    "%matplotlib inline"
   ]
  },
  {
   "cell_type": "code",
   "execution_count": 2,
   "id": "b1bb8cf5",
   "metadata": {},
   "outputs": [],
   "source": [
    "# importing data set\n",
    "df=pd.read_csv('house_prices.csv')"
   ]
  },
  {
   "cell_type": "code",
   "execution_count": 3,
   "id": "62b403e9",
   "metadata": {},
   "outputs": [
    {
     "data": {
      "text/html": [
       "<div>\n",
       "<style scoped>\n",
       "    .dataframe tbody tr th:only-of-type {\n",
       "        vertical-align: middle;\n",
       "    }\n",
       "\n",
       "    .dataframe tbody tr th {\n",
       "        vertical-align: top;\n",
       "    }\n",
       "\n",
       "    .dataframe thead th {\n",
       "        text-align: right;\n",
       "    }\n",
       "</style>\n",
       "<table border=\"1\" class=\"dataframe\">\n",
       "  <thead>\n",
       "    <tr style=\"text-align: right;\">\n",
       "      <th></th>\n",
       "      <th>Sub_title</th>\n",
       "      <th>Baths</th>\n",
       "      <th>Land size</th>\n",
       "      <th>Beds</th>\n",
       "      <th>House size</th>\n",
       "      <th>Location</th>\n",
       "      <th>Post_URL</th>\n",
       "      <th>Seller_name</th>\n",
       "      <th>Seller_type</th>\n",
       "      <th>published_date</th>\n",
       "      <th>Geo_Address</th>\n",
       "      <th>Lat</th>\n",
       "      <th>Lon</th>\n",
       "      <th>Price</th>\n",
       "    </tr>\n",
       "  </thead>\n",
       "  <tbody>\n",
       "    <tr>\n",
       "      <th>0</th>\n",
       "      <td>Posted on 06 Nov 2:32 pm, Matara City, Matara</td>\n",
       "      <td>1</td>\n",
       "      <td>50.0 perches</td>\n",
       "      <td>3</td>\n",
       "      <td>1,600.0 sqft</td>\n",
       "      <td>Matara City,  Matara</td>\n",
       "      <td>https://ikman.lk/en/ad/house-with-land-for-sal...</td>\n",
       "      <td>Ishara Dilshan</td>\n",
       "      <td>Member</td>\n",
       "      <td>06-11-2021 14:32</td>\n",
       "      <td>Matara City, Matara, Sri Lanka</td>\n",
       "      <td>80.500000</td>\n",
       "      <td>6.166670</td>\n",
       "      <td>Rs 5,400,000</td>\n",
       "    </tr>\n",
       "    <tr>\n",
       "      <th>1</th>\n",
       "      <td>Posted on 24 Oct 7:27 am, Athurugiriya, Colombo</td>\n",
       "      <td>3</td>\n",
       "      <td>8.0 perches</td>\n",
       "      <td>3</td>\n",
       "      <td>1,480.0 sqft</td>\n",
       "      <td>Athurugiriya,  Colombo</td>\n",
       "      <td>https://ikman.lk/en/ad/alut-kaamr-3-k-grh-bhaa...</td>\n",
       "      <td>DILRUWAN REAL ESTATE</td>\n",
       "      <td>Premium-Member</td>\n",
       "      <td>24-10-2021 07:27</td>\n",
       "      <td>Athurugiriya, Colombo, Sri Lanka</td>\n",
       "      <td>79.989929</td>\n",
       "      <td>6.877246</td>\n",
       "      <td>Rs 16,800,000</td>\n",
       "    </tr>\n",
       "    <tr>\n",
       "      <th>2</th>\n",
       "      <td>Posted on 17 Nov 5:19 pm, Kelaniya, Gampaha</td>\n",
       "      <td>2</td>\n",
       "      <td>20.0 perches</td>\n",
       "      <td>3</td>\n",
       "      <td>2,800.0 sqft</td>\n",
       "      <td>Kelaniya,  Gampaha</td>\n",
       "      <td>https://ikman.lk/en/ad/kelaniya-house-on-20p-l...</td>\n",
       "      <td>Provident Paradise (Pvt) Ltd</td>\n",
       "      <td>Member</td>\n",
       "      <td>17-11-2021 17:19</td>\n",
       "      <td>Kelaniya, Gampaha, Sri Lanka</td>\n",
       "      <td>79.914926</td>\n",
       "      <td>6.951178</td>\n",
       "      <td>Rs 20,000,000</td>\n",
       "    </tr>\n",
       "    <tr>\n",
       "      <th>3</th>\n",
       "      <td>Posted on 17 Nov 5:07 pm, Colombo 6, Colombo</td>\n",
       "      <td>5</td>\n",
       "      <td>22.0 perches</td>\n",
       "      <td>5</td>\n",
       "      <td>4,000.0 sqft</td>\n",
       "      <td>Colombo 6,  Colombo</td>\n",
       "      <td>https://ikman.lk/en/ad/house-for-sale-in-paman...</td>\n",
       "      <td>Colombo Construction Property Developers</td>\n",
       "      <td>Premium-Member</td>\n",
       "      <td>17-11-2021 17:07</td>\n",
       "      <td>Colombo 6, Colombo, Sri Lanka</td>\n",
       "      <td>80.016670</td>\n",
       "      <td>6.866670</td>\n",
       "      <td>Rs 187,000,000</td>\n",
       "    </tr>\n",
       "    <tr>\n",
       "      <th>4</th>\n",
       "      <td>Posted on 17 Nov 5:06 pm, Dehiwala, Colombo</td>\n",
       "      <td>1</td>\n",
       "      <td>6.3 perches</td>\n",
       "      <td>2</td>\n",
       "      <td>900.0 sqft</td>\n",
       "      <td>Dehiwala,  Colombo</td>\n",
       "      <td>https://ikman.lk/en/ad/house-for-sale-attidiya...</td>\n",
       "      <td>Lakdinu Houses</td>\n",
       "      <td>Member</td>\n",
       "      <td>17-11-2021 17:06</td>\n",
       "      <td>Dehiwala, Colombo, Sri Lanka</td>\n",
       "      <td>79.880242</td>\n",
       "      <td>6.838232</td>\n",
       "      <td>Rs 1,300,000</td>\n",
       "    </tr>\n",
       "  </tbody>\n",
       "</table>\n",
       "</div>"
      ],
      "text/plain": [
       "                                         Sub_title Baths     Land size Beds  \\\n",
       "0    Posted on 06 Nov 2:32 pm, Matara City, Matara     1  50.0 perches    3   \n",
       "1  Posted on 24 Oct 7:27 am, Athurugiriya, Colombo     3   8.0 perches    3   \n",
       "2      Posted on 17 Nov 5:19 pm, Kelaniya, Gampaha     2  20.0 perches    3   \n",
       "3     Posted on 17 Nov 5:07 pm, Colombo 6, Colombo     5  22.0 perches    5   \n",
       "4      Posted on 17 Nov 5:06 pm, Dehiwala, Colombo     1   6.3 perches    2   \n",
       "\n",
       "     House size                 Location  \\\n",
       "0  1,600.0 sqft     Matara City,  Matara   \n",
       "1  1,480.0 sqft   Athurugiriya,  Colombo   \n",
       "2  2,800.0 sqft       Kelaniya,  Gampaha   \n",
       "3  4,000.0 sqft      Colombo 6,  Colombo   \n",
       "4    900.0 sqft       Dehiwala,  Colombo   \n",
       "\n",
       "                                            Post_URL  \\\n",
       "0  https://ikman.lk/en/ad/house-with-land-for-sal...   \n",
       "1  https://ikman.lk/en/ad/alut-kaamr-3-k-grh-bhaa...   \n",
       "2  https://ikman.lk/en/ad/kelaniya-house-on-20p-l...   \n",
       "3  https://ikman.lk/en/ad/house-for-sale-in-paman...   \n",
       "4  https://ikman.lk/en/ad/house-for-sale-attidiya...   \n",
       "\n",
       "                                Seller_name     Seller_type    published_date  \\\n",
       "0                            Ishara Dilshan          Member  06-11-2021 14:32   \n",
       "1                      DILRUWAN REAL ESTATE  Premium-Member  24-10-2021 07:27   \n",
       "2              Provident Paradise (Pvt) Ltd          Member  17-11-2021 17:19   \n",
       "3  Colombo Construction Property Developers  Premium-Member  17-11-2021 17:07   \n",
       "4                            Lakdinu Houses          Member  17-11-2021 17:06   \n",
       "\n",
       "                        Geo_Address        Lat       Lon           Price  \n",
       "0    Matara City, Matara, Sri Lanka  80.500000  6.166670    Rs 5,400,000  \n",
       "1  Athurugiriya, Colombo, Sri Lanka  79.989929  6.877246   Rs 16,800,000  \n",
       "2      Kelaniya, Gampaha, Sri Lanka  79.914926  6.951178   Rs 20,000,000  \n",
       "3     Colombo 6, Colombo, Sri Lanka  80.016670  6.866670  Rs 187,000,000  \n",
       "4      Dehiwala, Colombo, Sri Lanka  79.880242  6.838232    Rs 1,300,000  "
      ]
     },
     "execution_count": 3,
     "metadata": {},
     "output_type": "execute_result"
    }
   ],
   "source": [
    "df.head()"
   ]
  },
  {
   "cell_type": "code",
   "execution_count": 4,
   "id": "5f7d4d07",
   "metadata": {},
   "outputs": [
    {
     "name": "stdout",
     "output_type": "stream",
     "text": [
      "<class 'pandas.core.frame.DataFrame'>\n",
      "RangeIndex: 15327 entries, 0 to 15326\n",
      "Data columns (total 14 columns):\n",
      " #   Column          Non-Null Count  Dtype  \n",
      "---  ------          --------------  -----  \n",
      " 0   Sub_title       15327 non-null  object \n",
      " 1   Baths           15327 non-null  object \n",
      " 2   Land size       15327 non-null  object \n",
      " 3   Beds            15327 non-null  object \n",
      " 4   House size      15327 non-null  object \n",
      " 5   Location        15327 non-null  object \n",
      " 6   Post_URL        15327 non-null  object \n",
      " 7   Seller_name     15327 non-null  object \n",
      " 8   Seller_type     15327 non-null  object \n",
      " 9   published_date  15327 non-null  object \n",
      " 10  Geo_Address     15327 non-null  object \n",
      " 11  Lat             15327 non-null  float64\n",
      " 12  Lon             15327 non-null  float64\n",
      " 13  Price           15327 non-null  object \n",
      "dtypes: float64(2), object(12)\n",
      "memory usage: 1.6+ MB\n"
     ]
    }
   ],
   "source": [
    "df.info()"
   ]
  },
  {
   "cell_type": "code",
   "execution_count": 5,
   "id": "458a6bbe",
   "metadata": {},
   "outputs": [
    {
     "data": {
      "text/plain": [
       "542"
      ]
     },
     "execution_count": 5,
     "metadata": {},
     "output_type": "execute_result"
    }
   ],
   "source": [
    "df.Price.unique().size"
   ]
  },
  {
   "cell_type": "code",
   "execution_count": 6,
   "id": "4cc78fc4",
   "metadata": {},
   "outputs": [
    {
     "data": {
      "text/html": [
       "<div>\n",
       "<style scoped>\n",
       "    .dataframe tbody tr th:only-of-type {\n",
       "        vertical-align: middle;\n",
       "    }\n",
       "\n",
       "    .dataframe tbody tr th {\n",
       "        vertical-align: top;\n",
       "    }\n",
       "\n",
       "    .dataframe thead th {\n",
       "        text-align: right;\n",
       "    }\n",
       "</style>\n",
       "<table border=\"1\" class=\"dataframe\">\n",
       "  <thead>\n",
       "    <tr style=\"text-align: right;\">\n",
       "      <th></th>\n",
       "      <th>Lat</th>\n",
       "      <th>Lon</th>\n",
       "    </tr>\n",
       "  </thead>\n",
       "  <tbody>\n",
       "    <tr>\n",
       "      <th>count</th>\n",
       "      <td>15327.000000</td>\n",
       "      <td>15327.000000</td>\n",
       "    </tr>\n",
       "    <tr>\n",
       "      <th>mean</th>\n",
       "      <td>79.979304</td>\n",
       "      <td>6.908008</td>\n",
       "    </tr>\n",
       "    <tr>\n",
       "      <th>std</th>\n",
       "      <td>0.177783</td>\n",
       "      <td>0.243448</td>\n",
       "    </tr>\n",
       "    <tr>\n",
       "      <th>min</th>\n",
       "      <td>79.795675</td>\n",
       "      <td>5.941424</td>\n",
       "    </tr>\n",
       "    <tr>\n",
       "      <th>25%</th>\n",
       "      <td>79.913892</td>\n",
       "      <td>6.801844</td>\n",
       "    </tr>\n",
       "    <tr>\n",
       "      <th>50%</th>\n",
       "      <td>79.940789</td>\n",
       "      <td>6.866670</td>\n",
       "    </tr>\n",
       "    <tr>\n",
       "      <th>75%</th>\n",
       "      <td>80.000000</td>\n",
       "      <td>6.935757</td>\n",
       "    </tr>\n",
       "    <tr>\n",
       "      <th>max</th>\n",
       "      <td>81.822554</td>\n",
       "      <td>9.673491</td>\n",
       "    </tr>\n",
       "  </tbody>\n",
       "</table>\n",
       "</div>"
      ],
      "text/plain": [
       "                Lat           Lon\n",
       "count  15327.000000  15327.000000\n",
       "mean      79.979304      6.908008\n",
       "std        0.177783      0.243448\n",
       "min       79.795675      5.941424\n",
       "25%       79.913892      6.801844\n",
       "50%       79.940789      6.866670\n",
       "75%       80.000000      6.935757\n",
       "max       81.822554      9.673491"
      ]
     },
     "execution_count": 6,
     "metadata": {},
     "output_type": "execute_result"
    }
   ],
   "source": [
    "df.describe()"
   ]
  },
  {
   "cell_type": "code",
   "execution_count": 7,
   "id": "7095f4f5",
   "metadata": {},
   "outputs": [
    {
     "data": {
      "text/plain": [
       "Sub_title         0\n",
       "Baths             0\n",
       "Land size         0\n",
       "Beds              0\n",
       "House size        0\n",
       "Location          0\n",
       "Post_URL          0\n",
       "Seller_name       0\n",
       "Seller_type       0\n",
       "published_date    0\n",
       "Geo_Address       0\n",
       "Lat               0\n",
       "Lon               0\n",
       "Price             0\n",
       "dtype: int64"
      ]
     },
     "execution_count": 7,
     "metadata": {},
     "output_type": "execute_result"
    }
   ],
   "source": [
    "df.isnull().sum()"
   ]
  },
  {
   "cell_type": "code",
   "execution_count": 8,
   "id": "e1807d6c",
   "metadata": {},
   "outputs": [
    {
     "data": {
      "text/plain": [
       "'Rs 20,000,000'"
      ]
     },
     "execution_count": 8,
     "metadata": {},
     "output_type": "execute_result"
    }
   ],
   "source": [
    "df.Price[2]"
   ]
  },
  {
   "cell_type": "code",
   "execution_count": 9,
   "id": "333b7b19",
   "metadata": {},
   "outputs": [],
   "source": [
    "# changing the dtype to int\n",
    "price=[]\n",
    "for i in df.Price:\n",
    "    s=i[3:]\n",
    "    v=s.split(',')\n",
    "    \n",
    "    price.append(int(''.join(v)))\n"
   ]
  },
  {
   "cell_type": "code",
   "execution_count": 10,
   "id": "cda40041",
   "metadata": {},
   "outputs": [],
   "source": [
    "df['price']=price\n",
    "x=df.pop('Price')"
   ]
  },
  {
   "cell_type": "code",
   "execution_count": 11,
   "id": "66e33015",
   "metadata": {},
   "outputs": [
    {
     "data": {
      "text/html": [
       "<div>\n",
       "<style scoped>\n",
       "    .dataframe tbody tr th:only-of-type {\n",
       "        vertical-align: middle;\n",
       "    }\n",
       "\n",
       "    .dataframe tbody tr th {\n",
       "        vertical-align: top;\n",
       "    }\n",
       "\n",
       "    .dataframe thead th {\n",
       "        text-align: right;\n",
       "    }\n",
       "</style>\n",
       "<table border=\"1\" class=\"dataframe\">\n",
       "  <thead>\n",
       "    <tr style=\"text-align: right;\">\n",
       "      <th></th>\n",
       "      <th>Sub_title</th>\n",
       "      <th>Baths</th>\n",
       "      <th>Land size</th>\n",
       "      <th>Beds</th>\n",
       "      <th>House size</th>\n",
       "      <th>Location</th>\n",
       "      <th>Post_URL</th>\n",
       "      <th>Seller_name</th>\n",
       "      <th>Seller_type</th>\n",
       "      <th>published_date</th>\n",
       "      <th>Geo_Address</th>\n",
       "      <th>Lat</th>\n",
       "      <th>Lon</th>\n",
       "      <th>price</th>\n",
       "    </tr>\n",
       "  </thead>\n",
       "  <tbody>\n",
       "    <tr>\n",
       "      <th>0</th>\n",
       "      <td>Posted on 06 Nov 2:32 pm, Matara City, Matara</td>\n",
       "      <td>1</td>\n",
       "      <td>50.0 perches</td>\n",
       "      <td>3</td>\n",
       "      <td>1,600.0 sqft</td>\n",
       "      <td>Matara City,  Matara</td>\n",
       "      <td>https://ikman.lk/en/ad/house-with-land-for-sal...</td>\n",
       "      <td>Ishara Dilshan</td>\n",
       "      <td>Member</td>\n",
       "      <td>06-11-2021 14:32</td>\n",
       "      <td>Matara City, Matara, Sri Lanka</td>\n",
       "      <td>80.500000</td>\n",
       "      <td>6.166670</td>\n",
       "      <td>5400000</td>\n",
       "    </tr>\n",
       "    <tr>\n",
       "      <th>1</th>\n",
       "      <td>Posted on 24 Oct 7:27 am, Athurugiriya, Colombo</td>\n",
       "      <td>3</td>\n",
       "      <td>8.0 perches</td>\n",
       "      <td>3</td>\n",
       "      <td>1,480.0 sqft</td>\n",
       "      <td>Athurugiriya,  Colombo</td>\n",
       "      <td>https://ikman.lk/en/ad/alut-kaamr-3-k-grh-bhaa...</td>\n",
       "      <td>DILRUWAN REAL ESTATE</td>\n",
       "      <td>Premium-Member</td>\n",
       "      <td>24-10-2021 07:27</td>\n",
       "      <td>Athurugiriya, Colombo, Sri Lanka</td>\n",
       "      <td>79.989929</td>\n",
       "      <td>6.877246</td>\n",
       "      <td>16800000</td>\n",
       "    </tr>\n",
       "    <tr>\n",
       "      <th>2</th>\n",
       "      <td>Posted on 17 Nov 5:19 pm, Kelaniya, Gampaha</td>\n",
       "      <td>2</td>\n",
       "      <td>20.0 perches</td>\n",
       "      <td>3</td>\n",
       "      <td>2,800.0 sqft</td>\n",
       "      <td>Kelaniya,  Gampaha</td>\n",
       "      <td>https://ikman.lk/en/ad/kelaniya-house-on-20p-l...</td>\n",
       "      <td>Provident Paradise (Pvt) Ltd</td>\n",
       "      <td>Member</td>\n",
       "      <td>17-11-2021 17:19</td>\n",
       "      <td>Kelaniya, Gampaha, Sri Lanka</td>\n",
       "      <td>79.914926</td>\n",
       "      <td>6.951178</td>\n",
       "      <td>20000000</td>\n",
       "    </tr>\n",
       "    <tr>\n",
       "      <th>3</th>\n",
       "      <td>Posted on 17 Nov 5:07 pm, Colombo 6, Colombo</td>\n",
       "      <td>5</td>\n",
       "      <td>22.0 perches</td>\n",
       "      <td>5</td>\n",
       "      <td>4,000.0 sqft</td>\n",
       "      <td>Colombo 6,  Colombo</td>\n",
       "      <td>https://ikman.lk/en/ad/house-for-sale-in-paman...</td>\n",
       "      <td>Colombo Construction Property Developers</td>\n",
       "      <td>Premium-Member</td>\n",
       "      <td>17-11-2021 17:07</td>\n",
       "      <td>Colombo 6, Colombo, Sri Lanka</td>\n",
       "      <td>80.016670</td>\n",
       "      <td>6.866670</td>\n",
       "      <td>187000000</td>\n",
       "    </tr>\n",
       "    <tr>\n",
       "      <th>4</th>\n",
       "      <td>Posted on 17 Nov 5:06 pm, Dehiwala, Colombo</td>\n",
       "      <td>1</td>\n",
       "      <td>6.3 perches</td>\n",
       "      <td>2</td>\n",
       "      <td>900.0 sqft</td>\n",
       "      <td>Dehiwala,  Colombo</td>\n",
       "      <td>https://ikman.lk/en/ad/house-for-sale-attidiya...</td>\n",
       "      <td>Lakdinu Houses</td>\n",
       "      <td>Member</td>\n",
       "      <td>17-11-2021 17:06</td>\n",
       "      <td>Dehiwala, Colombo, Sri Lanka</td>\n",
       "      <td>79.880242</td>\n",
       "      <td>6.838232</td>\n",
       "      <td>1300000</td>\n",
       "    </tr>\n",
       "  </tbody>\n",
       "</table>\n",
       "</div>"
      ],
      "text/plain": [
       "                                         Sub_title Baths     Land size Beds  \\\n",
       "0    Posted on 06 Nov 2:32 pm, Matara City, Matara     1  50.0 perches    3   \n",
       "1  Posted on 24 Oct 7:27 am, Athurugiriya, Colombo     3   8.0 perches    3   \n",
       "2      Posted on 17 Nov 5:19 pm, Kelaniya, Gampaha     2  20.0 perches    3   \n",
       "3     Posted on 17 Nov 5:07 pm, Colombo 6, Colombo     5  22.0 perches    5   \n",
       "4      Posted on 17 Nov 5:06 pm, Dehiwala, Colombo     1   6.3 perches    2   \n",
       "\n",
       "     House size                 Location  \\\n",
       "0  1,600.0 sqft     Matara City,  Matara   \n",
       "1  1,480.0 sqft   Athurugiriya,  Colombo   \n",
       "2  2,800.0 sqft       Kelaniya,  Gampaha   \n",
       "3  4,000.0 sqft      Colombo 6,  Colombo   \n",
       "4    900.0 sqft       Dehiwala,  Colombo   \n",
       "\n",
       "                                            Post_URL  \\\n",
       "0  https://ikman.lk/en/ad/house-with-land-for-sal...   \n",
       "1  https://ikman.lk/en/ad/alut-kaamr-3-k-grh-bhaa...   \n",
       "2  https://ikman.lk/en/ad/kelaniya-house-on-20p-l...   \n",
       "3  https://ikman.lk/en/ad/house-for-sale-in-paman...   \n",
       "4  https://ikman.lk/en/ad/house-for-sale-attidiya...   \n",
       "\n",
       "                                Seller_name     Seller_type    published_date  \\\n",
       "0                            Ishara Dilshan          Member  06-11-2021 14:32   \n",
       "1                      DILRUWAN REAL ESTATE  Premium-Member  24-10-2021 07:27   \n",
       "2              Provident Paradise (Pvt) Ltd          Member  17-11-2021 17:19   \n",
       "3  Colombo Construction Property Developers  Premium-Member  17-11-2021 17:07   \n",
       "4                            Lakdinu Houses          Member  17-11-2021 17:06   \n",
       "\n",
       "                        Geo_Address        Lat       Lon      price  \n",
       "0    Matara City, Matara, Sri Lanka  80.500000  6.166670    5400000  \n",
       "1  Athurugiriya, Colombo, Sri Lanka  79.989929  6.877246   16800000  \n",
       "2      Kelaniya, Gampaha, Sri Lanka  79.914926  6.951178   20000000  \n",
       "3     Colombo 6, Colombo, Sri Lanka  80.016670  6.866670  187000000  \n",
       "4      Dehiwala, Colombo, Sri Lanka  79.880242  6.838232    1300000  "
      ]
     },
     "execution_count": 11,
     "metadata": {},
     "output_type": "execute_result"
    }
   ],
   "source": [
    "df.head()"
   ]
  },
  {
   "cell_type": "code",
   "execution_count": 12,
   "id": "b1dcd21c",
   "metadata": {},
   "outputs": [
    {
     "data": {
      "text/html": [
       "<div>\n",
       "<style scoped>\n",
       "    .dataframe tbody tr th:only-of-type {\n",
       "        vertical-align: middle;\n",
       "    }\n",
       "\n",
       "    .dataframe tbody tr th {\n",
       "        vertical-align: top;\n",
       "    }\n",
       "\n",
       "    .dataframe thead th {\n",
       "        text-align: right;\n",
       "    }\n",
       "</style>\n",
       "<table border=\"1\" class=\"dataframe\">\n",
       "  <thead>\n",
       "    <tr style=\"text-align: right;\">\n",
       "      <th></th>\n",
       "      <th>Lat</th>\n",
       "      <th>Lon</th>\n",
       "      <th>price</th>\n",
       "    </tr>\n",
       "  </thead>\n",
       "  <tbody>\n",
       "    <tr>\n",
       "      <th>count</th>\n",
       "      <td>15327.000000</td>\n",
       "      <td>15327.000000</td>\n",
       "      <td>1.532700e+04</td>\n",
       "    </tr>\n",
       "    <tr>\n",
       "      <th>mean</th>\n",
       "      <td>79.979304</td>\n",
       "      <td>6.908008</td>\n",
       "      <td>3.534340e+07</td>\n",
       "    </tr>\n",
       "    <tr>\n",
       "      <th>std</th>\n",
       "      <td>0.177783</td>\n",
       "      <td>0.243448</td>\n",
       "      <td>4.513401e+07</td>\n",
       "    </tr>\n",
       "    <tr>\n",
       "      <th>min</th>\n",
       "      <td>79.795675</td>\n",
       "      <td>5.941424</td>\n",
       "      <td>3.600000e+03</td>\n",
       "    </tr>\n",
       "    <tr>\n",
       "      <th>25%</th>\n",
       "      <td>79.913892</td>\n",
       "      <td>6.801844</td>\n",
       "      <td>1.650000e+07</td>\n",
       "    </tr>\n",
       "    <tr>\n",
       "      <th>50%</th>\n",
       "      <td>79.940789</td>\n",
       "      <td>6.866670</td>\n",
       "      <td>2.600000e+07</td>\n",
       "    </tr>\n",
       "    <tr>\n",
       "      <th>75%</th>\n",
       "      <td>80.000000</td>\n",
       "      <td>6.935757</td>\n",
       "      <td>3.950000e+07</td>\n",
       "    </tr>\n",
       "    <tr>\n",
       "      <th>max</th>\n",
       "      <td>81.822554</td>\n",
       "      <td>9.673491</td>\n",
       "      <td>1.900000e+09</td>\n",
       "    </tr>\n",
       "  </tbody>\n",
       "</table>\n",
       "</div>"
      ],
      "text/plain": [
       "                Lat           Lon         price\n",
       "count  15327.000000  15327.000000  1.532700e+04\n",
       "mean      79.979304      6.908008  3.534340e+07\n",
       "std        0.177783      0.243448  4.513401e+07\n",
       "min       79.795675      5.941424  3.600000e+03\n",
       "25%       79.913892      6.801844  1.650000e+07\n",
       "50%       79.940789      6.866670  2.600000e+07\n",
       "75%       80.000000      6.935757  3.950000e+07\n",
       "max       81.822554      9.673491  1.900000e+09"
      ]
     },
     "execution_count": 12,
     "metadata": {},
     "output_type": "execute_result"
    }
   ],
   "source": [
    "df.describe()"
   ]
  },
  {
   "cell_type": "code",
   "execution_count": 13,
   "id": "4d8921e6",
   "metadata": {},
   "outputs": [
    {
     "data": {
      "text/plain": [
       "array(['1', '3', '2', '5', '4', '10+', '7', '6', '8', '10', '9'],\n",
       "      dtype=object)"
      ]
     },
     "execution_count": 13,
     "metadata": {},
     "output_type": "execute_result"
    }
   ],
   "source": [
    "df.Baths.unique(\n",
    ")"
   ]
  },
  {
   "cell_type": "code",
   "execution_count": 14,
   "id": "cee62576",
   "metadata": {},
   "outputs": [
    {
     "name": "stderr",
     "output_type": "stream",
     "text": [
      "C:\\Users\\SONY\\anaconda3\\lib\\site-packages\\pandas\\core\\indexing.py:1732: SettingWithCopyWarning: \n",
      "A value is trying to be set on a copy of a slice from a DataFrame\n",
      "\n",
      "See the caveats in the documentation: https://pandas.pydata.org/pandas-docs/stable/user_guide/indexing.html#returning-a-view-versus-a-copy\n",
      "  self._setitem_single_block(indexer, value, name)\n"
     ]
    }
   ],
   "source": [
    "df['Baths'].loc[df['Baths']=='10+']=12"
   ]
  },
  {
   "cell_type": "code",
   "execution_count": 15,
   "id": "1282b82a",
   "metadata": {},
   "outputs": [
    {
     "data": {
      "text/plain": [
       "array(['1', '3', '2', '5', '4', 12, '7', '6', '8', '10', '9'],\n",
       "      dtype=object)"
      ]
     },
     "execution_count": 15,
     "metadata": {},
     "output_type": "execute_result"
    }
   ],
   "source": [
    "df.Baths.unique(\n",
    ")"
   ]
  },
  {
   "cell_type": "code",
   "execution_count": 16,
   "id": "81089520",
   "metadata": {},
   "outputs": [],
   "source": [
    "# changing the dtype to int\n",
    "l1=[]\n",
    "for i in df.Baths:\n",
    "    s=int(i)\n",
    "    l1.append(s)"
   ]
  },
  {
   "cell_type": "code",
   "execution_count": 17,
   "id": "1351ec6d",
   "metadata": {},
   "outputs": [],
   "source": [
    "df['Baths']=l1\n"
   ]
  },
  {
   "cell_type": "code",
   "execution_count": 18,
   "id": "326602ec",
   "metadata": {},
   "outputs": [],
   "source": [
    "df['Beds'].loc[df.Beds=='10+']=11"
   ]
  },
  {
   "cell_type": "code",
   "execution_count": 19,
   "id": "de061a99",
   "metadata": {},
   "outputs": [],
   "source": [
    "# changing the dtype to int\n",
    "l1=[]\n",
    "for i in df.Beds:\n",
    "    s=int(i)\n",
    "    l1.append(s)"
   ]
  },
  {
   "cell_type": "code",
   "execution_count": 20,
   "id": "e9506e19",
   "metadata": {},
   "outputs": [],
   "source": [
    "df['Beds']=l1"
   ]
  },
  {
   "cell_type": "code",
   "execution_count": 21,
   "id": "cb565291",
   "metadata": {},
   "outputs": [
    {
     "data": {
      "text/html": [
       "<div>\n",
       "<style scoped>\n",
       "    .dataframe tbody tr th:only-of-type {\n",
       "        vertical-align: middle;\n",
       "    }\n",
       "\n",
       "    .dataframe tbody tr th {\n",
       "        vertical-align: top;\n",
       "    }\n",
       "\n",
       "    .dataframe thead th {\n",
       "        text-align: right;\n",
       "    }\n",
       "</style>\n",
       "<table border=\"1\" class=\"dataframe\">\n",
       "  <thead>\n",
       "    <tr style=\"text-align: right;\">\n",
       "      <th></th>\n",
       "      <th>Baths</th>\n",
       "      <th>Beds</th>\n",
       "      <th>Lat</th>\n",
       "      <th>Lon</th>\n",
       "      <th>price</th>\n",
       "    </tr>\n",
       "  </thead>\n",
       "  <tbody>\n",
       "    <tr>\n",
       "      <th>count</th>\n",
       "      <td>15327.000000</td>\n",
       "      <td>15327.000000</td>\n",
       "      <td>15327.000000</td>\n",
       "      <td>15327.000000</td>\n",
       "      <td>1.532700e+04</td>\n",
       "    </tr>\n",
       "    <tr>\n",
       "      <th>mean</th>\n",
       "      <td>2.976904</td>\n",
       "      <td>3.991388</td>\n",
       "      <td>79.979304</td>\n",
       "      <td>6.908008</td>\n",
       "      <td>3.534340e+07</td>\n",
       "    </tr>\n",
       "    <tr>\n",
       "      <th>std</th>\n",
       "      <td>1.366291</td>\n",
       "      <td>1.272811</td>\n",
       "      <td>0.177783</td>\n",
       "      <td>0.243448</td>\n",
       "      <td>4.513401e+07</td>\n",
       "    </tr>\n",
       "    <tr>\n",
       "      <th>min</th>\n",
       "      <td>1.000000</td>\n",
       "      <td>1.000000</td>\n",
       "      <td>79.795675</td>\n",
       "      <td>5.941424</td>\n",
       "      <td>3.600000e+03</td>\n",
       "    </tr>\n",
       "    <tr>\n",
       "      <th>25%</th>\n",
       "      <td>2.000000</td>\n",
       "      <td>3.000000</td>\n",
       "      <td>79.913892</td>\n",
       "      <td>6.801844</td>\n",
       "      <td>1.650000e+07</td>\n",
       "    </tr>\n",
       "    <tr>\n",
       "      <th>50%</th>\n",
       "      <td>3.000000</td>\n",
       "      <td>4.000000</td>\n",
       "      <td>79.940789</td>\n",
       "      <td>6.866670</td>\n",
       "      <td>2.600000e+07</td>\n",
       "    </tr>\n",
       "    <tr>\n",
       "      <th>75%</th>\n",
       "      <td>4.000000</td>\n",
       "      <td>4.000000</td>\n",
       "      <td>80.000000</td>\n",
       "      <td>6.935757</td>\n",
       "      <td>3.950000e+07</td>\n",
       "    </tr>\n",
       "    <tr>\n",
       "      <th>max</th>\n",
       "      <td>12.000000</td>\n",
       "      <td>11.000000</td>\n",
       "      <td>81.822554</td>\n",
       "      <td>9.673491</td>\n",
       "      <td>1.900000e+09</td>\n",
       "    </tr>\n",
       "  </tbody>\n",
       "</table>\n",
       "</div>"
      ],
      "text/plain": [
       "              Baths          Beds           Lat           Lon         price\n",
       "count  15327.000000  15327.000000  15327.000000  15327.000000  1.532700e+04\n",
       "mean       2.976904      3.991388     79.979304      6.908008  3.534340e+07\n",
       "std        1.366291      1.272811      0.177783      0.243448  4.513401e+07\n",
       "min        1.000000      1.000000     79.795675      5.941424  3.600000e+03\n",
       "25%        2.000000      3.000000     79.913892      6.801844  1.650000e+07\n",
       "50%        3.000000      4.000000     79.940789      6.866670  2.600000e+07\n",
       "75%        4.000000      4.000000     80.000000      6.935757  3.950000e+07\n",
       "max       12.000000     11.000000     81.822554      9.673491  1.900000e+09"
      ]
     },
     "execution_count": 21,
     "metadata": {},
     "output_type": "execute_result"
    }
   ],
   "source": [
    "df.describe()"
   ]
  },
  {
   "cell_type": "code",
   "execution_count": 22,
   "id": "fcf91c52",
   "metadata": {},
   "outputs": [],
   "source": [
    "# changing the dtype to int\n",
    "l2=[]\n",
    "for i in df['Land size']:\n",
    "    if type(i) ==int:\n",
    "        l2.append(i)\n",
    "    else:\n",
    "        s=i[:-8]\n",
    "        l2.append(float(''.join(s.split(','))))\n",
    "    \n",
    "        \n",
    "    "
   ]
  },
  {
   "cell_type": "code",
   "execution_count": 23,
   "id": "932b5650",
   "metadata": {},
   "outputs": [],
   "source": [
    "df['Land size']=l2"
   ]
  },
  {
   "cell_type": "code",
   "execution_count": 24,
   "id": "f4cf5df9",
   "metadata": {},
   "outputs": [
    {
     "data": {
      "text/html": [
       "<div>\n",
       "<style scoped>\n",
       "    .dataframe tbody tr th:only-of-type {\n",
       "        vertical-align: middle;\n",
       "    }\n",
       "\n",
       "    .dataframe tbody tr th {\n",
       "        vertical-align: top;\n",
       "    }\n",
       "\n",
       "    .dataframe thead th {\n",
       "        text-align: right;\n",
       "    }\n",
       "</style>\n",
       "<table border=\"1\" class=\"dataframe\">\n",
       "  <thead>\n",
       "    <tr style=\"text-align: right;\">\n",
       "      <th></th>\n",
       "      <th>Baths</th>\n",
       "      <th>Land size</th>\n",
       "      <th>Beds</th>\n",
       "      <th>Lat</th>\n",
       "      <th>Lon</th>\n",
       "      <th>price</th>\n",
       "    </tr>\n",
       "  </thead>\n",
       "  <tbody>\n",
       "    <tr>\n",
       "      <th>count</th>\n",
       "      <td>15327.000000</td>\n",
       "      <td>15327.000000</td>\n",
       "      <td>15327.000000</td>\n",
       "      <td>15327.000000</td>\n",
       "      <td>15327.000000</td>\n",
       "      <td>1.532700e+04</td>\n",
       "    </tr>\n",
       "    <tr>\n",
       "      <th>mean</th>\n",
       "      <td>2.976904</td>\n",
       "      <td>16.726002</td>\n",
       "      <td>3.991388</td>\n",
       "      <td>79.979304</td>\n",
       "      <td>6.908008</td>\n",
       "      <td>3.534340e+07</td>\n",
       "    </tr>\n",
       "    <tr>\n",
       "      <th>std</th>\n",
       "      <td>1.366291</td>\n",
       "      <td>102.990469</td>\n",
       "      <td>1.272811</td>\n",
       "      <td>0.177783</td>\n",
       "      <td>0.243448</td>\n",
       "      <td>4.513401e+07</td>\n",
       "    </tr>\n",
       "    <tr>\n",
       "      <th>min</th>\n",
       "      <td>1.000000</td>\n",
       "      <td>0.000000</td>\n",
       "      <td>1.000000</td>\n",
       "      <td>79.795675</td>\n",
       "      <td>5.941424</td>\n",
       "      <td>3.600000e+03</td>\n",
       "    </tr>\n",
       "    <tr>\n",
       "      <th>25%</th>\n",
       "      <td>2.000000</td>\n",
       "      <td>7.800000</td>\n",
       "      <td>3.000000</td>\n",
       "      <td>79.913892</td>\n",
       "      <td>6.801844</td>\n",
       "      <td>1.650000e+07</td>\n",
       "    </tr>\n",
       "    <tr>\n",
       "      <th>50%</th>\n",
       "      <td>3.000000</td>\n",
       "      <td>10.000000</td>\n",
       "      <td>4.000000</td>\n",
       "      <td>79.940789</td>\n",
       "      <td>6.866670</td>\n",
       "      <td>2.600000e+07</td>\n",
       "    </tr>\n",
       "    <tr>\n",
       "      <th>75%</th>\n",
       "      <td>4.000000</td>\n",
       "      <td>14.150000</td>\n",
       "      <td>4.000000</td>\n",
       "      <td>80.000000</td>\n",
       "      <td>6.935757</td>\n",
       "      <td>3.950000e+07</td>\n",
       "    </tr>\n",
       "    <tr>\n",
       "      <th>max</th>\n",
       "      <td>12.000000</td>\n",
       "      <td>5445.000000</td>\n",
       "      <td>11.000000</td>\n",
       "      <td>81.822554</td>\n",
       "      <td>9.673491</td>\n",
       "      <td>1.900000e+09</td>\n",
       "    </tr>\n",
       "  </tbody>\n",
       "</table>\n",
       "</div>"
      ],
      "text/plain": [
       "              Baths     Land size          Beds           Lat           Lon  \\\n",
       "count  15327.000000  15327.000000  15327.000000  15327.000000  15327.000000   \n",
       "mean       2.976904     16.726002      3.991388     79.979304      6.908008   \n",
       "std        1.366291    102.990469      1.272811      0.177783      0.243448   \n",
       "min        1.000000      0.000000      1.000000     79.795675      5.941424   \n",
       "25%        2.000000      7.800000      3.000000     79.913892      6.801844   \n",
       "50%        3.000000     10.000000      4.000000     79.940789      6.866670   \n",
       "75%        4.000000     14.150000      4.000000     80.000000      6.935757   \n",
       "max       12.000000   5445.000000     11.000000     81.822554      9.673491   \n",
       "\n",
       "              price  \n",
       "count  1.532700e+04  \n",
       "mean   3.534340e+07  \n",
       "std    4.513401e+07  \n",
       "min    3.600000e+03  \n",
       "25%    1.650000e+07  \n",
       "50%    2.600000e+07  \n",
       "75%    3.950000e+07  \n",
       "max    1.900000e+09  "
      ]
     },
     "execution_count": 24,
     "metadata": {},
     "output_type": "execute_result"
    }
   ],
   "source": [
    "df.describe()"
   ]
  },
  {
   "cell_type": "code",
   "execution_count": 25,
   "id": "6dc29f3f",
   "metadata": {},
   "outputs": [
    {
     "data": {
      "text/plain": [
       "array(['1,600.0 sqft', '1,480.0 sqft', '2,800.0 sqft', ...,\n",
       "       '1,960.0 sqft', '4,653.0 sqft', '2,393.0 sqft'], dtype=object)"
      ]
     },
     "execution_count": 25,
     "metadata": {},
     "output_type": "execute_result"
    }
   ],
   "source": [
    "df['House size'].unique()"
   ]
  },
  {
   "cell_type": "code",
   "execution_count": 26,
   "id": "c3b00263",
   "metadata": {},
   "outputs": [],
   "source": [
    "l3=[]\n",
    "for i in df['House size']:\n",
    "#     print(type(i))\n",
    "    s=i[:-5]\n",
    "    l3.append(float(''.join(s.split(','))))\n",
    "    "
   ]
  },
  {
   "cell_type": "code",
   "execution_count": 27,
   "id": "9ba30b6c",
   "metadata": {},
   "outputs": [],
   "source": [
    "df['House size']=l3"
   ]
  },
  {
   "cell_type": "code",
   "execution_count": 28,
   "id": "2f1a755a",
   "metadata": {},
   "outputs": [
    {
     "data": {
      "text/plain": [
       "0        1600.0\n",
       "1        1480.0\n",
       "2        2800.0\n",
       "3        4000.0\n",
       "4         900.0\n",
       "          ...  \n",
       "15322    1200.0\n",
       "15323    1100.0\n",
       "15324    2750.0\n",
       "15325    1350.0\n",
       "15326    5000.0\n",
       "Name: House size, Length: 15327, dtype: float64"
      ]
     },
     "execution_count": 28,
     "metadata": {},
     "output_type": "execute_result"
    }
   ],
   "source": [
    "df['House size']"
   ]
  },
  {
   "cell_type": "code",
   "execution_count": 29,
   "id": "0c57a40c",
   "metadata": {},
   "outputs": [
    {
     "data": {
      "text/html": [
       "<div>\n",
       "<style scoped>\n",
       "    .dataframe tbody tr th:only-of-type {\n",
       "        vertical-align: middle;\n",
       "    }\n",
       "\n",
       "    .dataframe tbody tr th {\n",
       "        vertical-align: top;\n",
       "    }\n",
       "\n",
       "    .dataframe thead th {\n",
       "        text-align: right;\n",
       "    }\n",
       "</style>\n",
       "<table border=\"1\" class=\"dataframe\">\n",
       "  <thead>\n",
       "    <tr style=\"text-align: right;\">\n",
       "      <th></th>\n",
       "      <th>Baths</th>\n",
       "      <th>Land size</th>\n",
       "      <th>Beds</th>\n",
       "      <th>House size</th>\n",
       "      <th>Lat</th>\n",
       "      <th>Lon</th>\n",
       "      <th>price</th>\n",
       "    </tr>\n",
       "  </thead>\n",
       "  <tbody>\n",
       "    <tr>\n",
       "      <th>count</th>\n",
       "      <td>15327.000000</td>\n",
       "      <td>15327.000000</td>\n",
       "      <td>15327.000000</td>\n",
       "      <td>15327.000000</td>\n",
       "      <td>15327.000000</td>\n",
       "      <td>15327.000000</td>\n",
       "      <td>1.532700e+04</td>\n",
       "    </tr>\n",
       "    <tr>\n",
       "      <th>mean</th>\n",
       "      <td>2.976904</td>\n",
       "      <td>16.726002</td>\n",
       "      <td>3.991388</td>\n",
       "      <td>2770.713588</td>\n",
       "      <td>79.979304</td>\n",
       "      <td>6.908008</td>\n",
       "      <td>3.534340e+07</td>\n",
       "    </tr>\n",
       "    <tr>\n",
       "      <th>std</th>\n",
       "      <td>1.366291</td>\n",
       "      <td>102.990469</td>\n",
       "      <td>1.272811</td>\n",
       "      <td>2194.920377</td>\n",
       "      <td>0.177783</td>\n",
       "      <td>0.243448</td>\n",
       "      <td>4.513401e+07</td>\n",
       "    </tr>\n",
       "    <tr>\n",
       "      <th>min</th>\n",
       "      <td>1.000000</td>\n",
       "      <td>0.000000</td>\n",
       "      <td>1.000000</td>\n",
       "      <td>0.000000</td>\n",
       "      <td>79.795675</td>\n",
       "      <td>5.941424</td>\n",
       "      <td>3.600000e+03</td>\n",
       "    </tr>\n",
       "    <tr>\n",
       "      <th>25%</th>\n",
       "      <td>2.000000</td>\n",
       "      <td>7.800000</td>\n",
       "      <td>3.000000</td>\n",
       "      <td>1650.000000</td>\n",
       "      <td>79.913892</td>\n",
       "      <td>6.801844</td>\n",
       "      <td>1.650000e+07</td>\n",
       "    </tr>\n",
       "    <tr>\n",
       "      <th>50%</th>\n",
       "      <td>3.000000</td>\n",
       "      <td>10.000000</td>\n",
       "      <td>4.000000</td>\n",
       "      <td>2500.000000</td>\n",
       "      <td>79.940789</td>\n",
       "      <td>6.866670</td>\n",
       "      <td>2.600000e+07</td>\n",
       "    </tr>\n",
       "    <tr>\n",
       "      <th>75%</th>\n",
       "      <td>4.000000</td>\n",
       "      <td>14.150000</td>\n",
       "      <td>4.000000</td>\n",
       "      <td>3300.000000</td>\n",
       "      <td>80.000000</td>\n",
       "      <td>6.935757</td>\n",
       "      <td>3.950000e+07</td>\n",
       "    </tr>\n",
       "    <tr>\n",
       "      <th>max</th>\n",
       "      <td>12.000000</td>\n",
       "      <td>5445.000000</td>\n",
       "      <td>11.000000</td>\n",
       "      <td>120000.000000</td>\n",
       "      <td>81.822554</td>\n",
       "      <td>9.673491</td>\n",
       "      <td>1.900000e+09</td>\n",
       "    </tr>\n",
       "  </tbody>\n",
       "</table>\n",
       "</div>"
      ],
      "text/plain": [
       "              Baths     Land size          Beds     House size           Lat  \\\n",
       "count  15327.000000  15327.000000  15327.000000   15327.000000  15327.000000   \n",
       "mean       2.976904     16.726002      3.991388    2770.713588     79.979304   \n",
       "std        1.366291    102.990469      1.272811    2194.920377      0.177783   \n",
       "min        1.000000      0.000000      1.000000       0.000000     79.795675   \n",
       "25%        2.000000      7.800000      3.000000    1650.000000     79.913892   \n",
       "50%        3.000000     10.000000      4.000000    2500.000000     79.940789   \n",
       "75%        4.000000     14.150000      4.000000    3300.000000     80.000000   \n",
       "max       12.000000   5445.000000     11.000000  120000.000000     81.822554   \n",
       "\n",
       "                Lon         price  \n",
       "count  15327.000000  1.532700e+04  \n",
       "mean       6.908008  3.534340e+07  \n",
       "std        0.243448  4.513401e+07  \n",
       "min        5.941424  3.600000e+03  \n",
       "25%        6.801844  1.650000e+07  \n",
       "50%        6.866670  2.600000e+07  \n",
       "75%        6.935757  3.950000e+07  \n",
       "max        9.673491  1.900000e+09  "
      ]
     },
     "execution_count": 29,
     "metadata": {},
     "output_type": "execute_result"
    }
   ],
   "source": [
    "df.describe()"
   ]
  },
  {
   "cell_type": "code",
   "execution_count": 30,
   "id": "bc3b0915",
   "metadata": {},
   "outputs": [
    {
     "data": {
      "text/html": [
       "<div>\n",
       "<style scoped>\n",
       "    .dataframe tbody tr th:only-of-type {\n",
       "        vertical-align: middle;\n",
       "    }\n",
       "\n",
       "    .dataframe tbody tr th {\n",
       "        vertical-align: top;\n",
       "    }\n",
       "\n",
       "    .dataframe thead th {\n",
       "        text-align: right;\n",
       "    }\n",
       "</style>\n",
       "<table border=\"1\" class=\"dataframe\">\n",
       "  <thead>\n",
       "    <tr style=\"text-align: right;\">\n",
       "      <th></th>\n",
       "      <th>Baths</th>\n",
       "      <th>Land size</th>\n",
       "      <th>Beds</th>\n",
       "      <th>House size</th>\n",
       "      <th>Lat</th>\n",
       "      <th>Lon</th>\n",
       "      <th>price</th>\n",
       "    </tr>\n",
       "  </thead>\n",
       "  <tbody>\n",
       "    <tr>\n",
       "      <th>count</th>\n",
       "      <td>15327.000000</td>\n",
       "      <td>15327.000000</td>\n",
       "      <td>15327.000000</td>\n",
       "      <td>15327.000000</td>\n",
       "      <td>15327.000000</td>\n",
       "      <td>15327.000000</td>\n",
       "      <td>1.532700e+04</td>\n",
       "    </tr>\n",
       "    <tr>\n",
       "      <th>mean</th>\n",
       "      <td>2.976904</td>\n",
       "      <td>16.726002</td>\n",
       "      <td>3.991388</td>\n",
       "      <td>2770.713588</td>\n",
       "      <td>79.979304</td>\n",
       "      <td>6.908008</td>\n",
       "      <td>3.534340e+07</td>\n",
       "    </tr>\n",
       "    <tr>\n",
       "      <th>std</th>\n",
       "      <td>1.366291</td>\n",
       "      <td>102.990469</td>\n",
       "      <td>1.272811</td>\n",
       "      <td>2194.920377</td>\n",
       "      <td>0.177783</td>\n",
       "      <td>0.243448</td>\n",
       "      <td>4.513401e+07</td>\n",
       "    </tr>\n",
       "    <tr>\n",
       "      <th>min</th>\n",
       "      <td>1.000000</td>\n",
       "      <td>0.000000</td>\n",
       "      <td>1.000000</td>\n",
       "      <td>0.000000</td>\n",
       "      <td>79.795675</td>\n",
       "      <td>5.941424</td>\n",
       "      <td>3.600000e+03</td>\n",
       "    </tr>\n",
       "    <tr>\n",
       "      <th>25%</th>\n",
       "      <td>2.000000</td>\n",
       "      <td>7.800000</td>\n",
       "      <td>3.000000</td>\n",
       "      <td>1650.000000</td>\n",
       "      <td>79.913892</td>\n",
       "      <td>6.801844</td>\n",
       "      <td>1.650000e+07</td>\n",
       "    </tr>\n",
       "    <tr>\n",
       "      <th>50%</th>\n",
       "      <td>3.000000</td>\n",
       "      <td>10.000000</td>\n",
       "      <td>4.000000</td>\n",
       "      <td>2500.000000</td>\n",
       "      <td>79.940789</td>\n",
       "      <td>6.866670</td>\n",
       "      <td>2.600000e+07</td>\n",
       "    </tr>\n",
       "    <tr>\n",
       "      <th>75%</th>\n",
       "      <td>4.000000</td>\n",
       "      <td>14.150000</td>\n",
       "      <td>4.000000</td>\n",
       "      <td>3300.000000</td>\n",
       "      <td>80.000000</td>\n",
       "      <td>6.935757</td>\n",
       "      <td>3.950000e+07</td>\n",
       "    </tr>\n",
       "    <tr>\n",
       "      <th>max</th>\n",
       "      <td>12.000000</td>\n",
       "      <td>5445.000000</td>\n",
       "      <td>11.000000</td>\n",
       "      <td>120000.000000</td>\n",
       "      <td>81.822554</td>\n",
       "      <td>9.673491</td>\n",
       "      <td>1.900000e+09</td>\n",
       "    </tr>\n",
       "  </tbody>\n",
       "</table>\n",
       "</div>"
      ],
      "text/plain": [
       "              Baths     Land size          Beds     House size           Lat  \\\n",
       "count  15327.000000  15327.000000  15327.000000   15327.000000  15327.000000   \n",
       "mean       2.976904     16.726002      3.991388    2770.713588     79.979304   \n",
       "std        1.366291    102.990469      1.272811    2194.920377      0.177783   \n",
       "min        1.000000      0.000000      1.000000       0.000000     79.795675   \n",
       "25%        2.000000      7.800000      3.000000    1650.000000     79.913892   \n",
       "50%        3.000000     10.000000      4.000000    2500.000000     79.940789   \n",
       "75%        4.000000     14.150000      4.000000    3300.000000     80.000000   \n",
       "max       12.000000   5445.000000     11.000000  120000.000000     81.822554   \n",
       "\n",
       "                Lon         price  \n",
       "count  15327.000000  1.532700e+04  \n",
       "mean       6.908008  3.534340e+07  \n",
       "std        0.243448  4.513401e+07  \n",
       "min        5.941424  3.600000e+03  \n",
       "25%        6.801844  1.650000e+07  \n",
       "50%        6.866670  2.600000e+07  \n",
       "75%        6.935757  3.950000e+07  \n",
       "max        9.673491  1.900000e+09  "
      ]
     },
     "execution_count": 30,
     "metadata": {},
     "output_type": "execute_result"
    }
   ],
   "source": [
    "df.describe()"
   ]
  },
  {
   "cell_type": "code",
   "execution_count": 31,
   "id": "e1dd1c88",
   "metadata": {},
   "outputs": [
    {
     "data": {
      "text/plain": [
       "Sub_title         0\n",
       "Baths             0\n",
       "Land size         0\n",
       "Beds              0\n",
       "House size        0\n",
       "Location          0\n",
       "Post_URL          0\n",
       "Seller_name       0\n",
       "Seller_type       0\n",
       "published_date    0\n",
       "Geo_Address       0\n",
       "Lat               0\n",
       "Lon               0\n",
       "price             0\n",
       "dtype: int64"
      ]
     },
     "execution_count": 31,
     "metadata": {},
     "output_type": "execute_result"
    }
   ],
   "source": [
    "df.isnull().sum()"
   ]
  },
  {
   "cell_type": "code",
   "execution_count": 32,
   "id": "b7141641",
   "metadata": {},
   "outputs": [
    {
     "name": "stdout",
     "output_type": "stream",
     "text": [
      "<class 'pandas.core.frame.DataFrame'>\n",
      "RangeIndex: 15327 entries, 0 to 15326\n",
      "Data columns (total 14 columns):\n",
      " #   Column          Non-Null Count  Dtype  \n",
      "---  ------          --------------  -----  \n",
      " 0   Sub_title       15327 non-null  object \n",
      " 1   Baths           15327 non-null  int64  \n",
      " 2   Land size       15327 non-null  float64\n",
      " 3   Beds            15327 non-null  int64  \n",
      " 4   House size      15327 non-null  float64\n",
      " 5   Location        15327 non-null  object \n",
      " 6   Post_URL        15327 non-null  object \n",
      " 7   Seller_name     15327 non-null  object \n",
      " 8   Seller_type     15327 non-null  object \n",
      " 9   published_date  15327 non-null  object \n",
      " 10  Geo_Address     15327 non-null  object \n",
      " 11  Lat             15327 non-null  float64\n",
      " 12  Lon             15327 non-null  float64\n",
      " 13  price           15327 non-null  int64  \n",
      "dtypes: float64(4), int64(3), object(7)\n",
      "memory usage: 1.6+ MB\n"
     ]
    }
   ],
   "source": [
    "df.info()"
   ]
  },
  {
   "cell_type": "code",
   "execution_count": 33,
   "id": "9321316c",
   "metadata": {},
   "outputs": [],
   "source": [
    "import statsmodels.api as sm\n",
    "from statsmodels.formula.api import ols"
   ]
  },
  {
   "cell_type": "code",
   "execution_count": 34,
   "id": "17f91c7b",
   "metadata": {},
   "outputs": [],
   "source": [
    "# ## ANOVA TEST\n",
    "# mod=ols('price~Post_URL',data=df).fit()\n",
    "# aov=sm.stats.anova_lm(mod,type=2)\n",
    "\n",
    "# aov"
   ]
  },
  {
   "cell_type": "code",
   "execution_count": 35,
   "id": "ce59e178",
   "metadata": {},
   "outputs": [],
   "source": [
    "df.drop('Post_URL',axis=1,inplace=True)"
   ]
  },
  {
   "cell_type": "code",
   "execution_count": 36,
   "id": "dc6c625d",
   "metadata": {},
   "outputs": [],
   "source": [
    "# ## ANOVA TEST\n",
    "# mod=ols('price~Location',data=df).fit()\n",
    "# aov=sm.stats.anova_lm(mod,type=2)"
   ]
  },
  {
   "cell_type": "code",
   "execution_count": null,
   "id": "1bbb970d",
   "metadata": {},
   "outputs": [],
   "source": []
  },
  {
   "cell_type": "code",
   "execution_count": 38,
   "id": "d9cfe29e",
   "metadata": {},
   "outputs": [],
   "source": [
    "# ## ANOVA TEST\n",
    "# mod=ols('price~Seller_name',data=df).fit()\n",
    "# aov=sm.stats.anova_lm(mod,type=2)"
   ]
  },
  {
   "cell_type": "code",
   "execution_count": 39,
   "id": "311a6623",
   "metadata": {},
   "outputs": [],
   "source": [
    "# ## ANOVA TEST\n",
    "# mod=ols('price~Seller_type',data=df).fit()\n",
    "# aov=sm.stats.anova_lm(mod,type=2)"
   ]
  },
  {
   "cell_type": "code",
   "execution_count": 40,
   "id": "eb6adf92",
   "metadata": {},
   "outputs": [],
   "source": [
    "## ANOVA TEST\n",
    "# mod=ols('price~Geo_Address',data=df).fit()\n",
    "# aov=sm.stats.anova_lm(mod,type=2)"
   ]
  },
  {
   "cell_type": "code",
   "execution_count": 41,
   "id": "509a4afe",
   "metadata": {},
   "outputs": [],
   "source": [
    "# ## ANOVA TEST\n",
    "# mod=ols('price~published_date',data=df).fit()\n",
    "# aov=sm.stats.anova_lm(mod,type=2)"
   ]
  },
  {
   "cell_type": "code",
   "execution_count": 37,
   "id": "053777a5",
   "metadata": {},
   "outputs": [],
   "source": [
    "df.columns\n",
    "df['Sub_title'].unique().size\n",
    "df.drop('Sub_title',axis=1,inplace=True)"
   ]
  },
  {
   "cell_type": "code",
   "execution_count": 38,
   "id": "84e2981c",
   "metadata": {},
   "outputs": [
    {
     "data": {
      "text/plain": [
       "Index(['Baths', 'Land size', 'Beds', 'House size', 'Location', 'Seller_name',\n",
       "       'Seller_type', 'published_date', 'Geo_Address', 'Lat', 'Lon', 'price'],\n",
       "      dtype='object')"
      ]
     },
     "execution_count": 38,
     "metadata": {},
     "output_type": "execute_result"
    }
   ],
   "source": [
    "df.columns"
   ]
  },
  {
   "cell_type": "code",
   "execution_count": 39,
   "id": "dbf8249e",
   "metadata": {},
   "outputs": [],
   "source": [
    "df.columns\n",
    "df['published_date'].unique().size\n",
    "df.drop('published_date',axis=1,inplace=True)"
   ]
  },
  {
   "cell_type": "code",
   "execution_count": 40,
   "id": "d865087f",
   "metadata": {},
   "outputs": [
    {
     "data": {
      "text/plain": [
       "Baths          0\n",
       "Land size      0\n",
       "Beds           0\n",
       "House size     0\n",
       "Location       0\n",
       "Seller_name    0\n",
       "Seller_type    0\n",
       "Geo_Address    0\n",
       "Lat            0\n",
       "Lon            0\n",
       "price          0\n",
       "dtype: int64"
      ]
     },
     "execution_count": 40,
     "metadata": {},
     "output_type": "execute_result"
    }
   ],
   "source": [
    "df.isnull().sum()"
   ]
  },
  {
   "cell_type": "code",
   "execution_count": 41,
   "id": "713c58bb",
   "metadata": {},
   "outputs": [],
   "source": [
    "import pickle\n",
    "f=open('srilanka.csv','bw')\n",
    "pickle.dump(df,f)\n"
   ]
  },
  {
   "cell_type": "code",
   "execution_count": 43,
   "id": "7cb2c9d7",
   "metadata": {},
   "outputs": [],
   "source": [
    "df=pickle.load('srilanka.csv','br')"
   ]
  },
  {
   "cell_type": "code",
   "execution_count": 44,
   "id": "3807046c",
   "metadata": {},
   "outputs": [
    {
     "data": {
      "text/html": [
       "<div>\n",
       "<style scoped>\n",
       "    .dataframe tbody tr th:only-of-type {\n",
       "        vertical-align: middle;\n",
       "    }\n",
       "\n",
       "    .dataframe tbody tr th {\n",
       "        vertical-align: top;\n",
       "    }\n",
       "\n",
       "    .dataframe thead th {\n",
       "        text-align: right;\n",
       "    }\n",
       "</style>\n",
       "<table border=\"1\" class=\"dataframe\">\n",
       "  <thead>\n",
       "    <tr style=\"text-align: right;\">\n",
       "      <th></th>\n",
       "      <th>Baths</th>\n",
       "      <th>Land size</th>\n",
       "      <th>Beds</th>\n",
       "      <th>House size</th>\n",
       "      <th>Location</th>\n",
       "      <th>Seller_name</th>\n",
       "      <th>Seller_type</th>\n",
       "      <th>Geo_Address</th>\n",
       "      <th>Lat</th>\n",
       "      <th>Lon</th>\n",
       "      <th>price</th>\n",
       "    </tr>\n",
       "  </thead>\n",
       "  <tbody>\n",
       "    <tr>\n",
       "      <th>0</th>\n",
       "      <td>1</td>\n",
       "      <td>50.0</td>\n",
       "      <td>3</td>\n",
       "      <td>1600.0</td>\n",
       "      <td>Matara City,  Matara</td>\n",
       "      <td>Ishara Dilshan</td>\n",
       "      <td>Member</td>\n",
       "      <td>Matara City, Matara, Sri Lanka</td>\n",
       "      <td>80.500000</td>\n",
       "      <td>6.166670</td>\n",
       "      <td>5400000</td>\n",
       "    </tr>\n",
       "    <tr>\n",
       "      <th>1</th>\n",
       "      <td>3</td>\n",
       "      <td>8.0</td>\n",
       "      <td>3</td>\n",
       "      <td>1480.0</td>\n",
       "      <td>Athurugiriya,  Colombo</td>\n",
       "      <td>DILRUWAN REAL ESTATE</td>\n",
       "      <td>Premium-Member</td>\n",
       "      <td>Athurugiriya, Colombo, Sri Lanka</td>\n",
       "      <td>79.989929</td>\n",
       "      <td>6.877246</td>\n",
       "      <td>16800000</td>\n",
       "    </tr>\n",
       "    <tr>\n",
       "      <th>2</th>\n",
       "      <td>2</td>\n",
       "      <td>20.0</td>\n",
       "      <td>3</td>\n",
       "      <td>2800.0</td>\n",
       "      <td>Kelaniya,  Gampaha</td>\n",
       "      <td>Provident Paradise (Pvt) Ltd</td>\n",
       "      <td>Member</td>\n",
       "      <td>Kelaniya, Gampaha, Sri Lanka</td>\n",
       "      <td>79.914926</td>\n",
       "      <td>6.951178</td>\n",
       "      <td>20000000</td>\n",
       "    </tr>\n",
       "    <tr>\n",
       "      <th>3</th>\n",
       "      <td>5</td>\n",
       "      <td>22.0</td>\n",
       "      <td>5</td>\n",
       "      <td>4000.0</td>\n",
       "      <td>Colombo 6,  Colombo</td>\n",
       "      <td>Colombo Construction Property Developers</td>\n",
       "      <td>Premium-Member</td>\n",
       "      <td>Colombo 6, Colombo, Sri Lanka</td>\n",
       "      <td>80.016670</td>\n",
       "      <td>6.866670</td>\n",
       "      <td>187000000</td>\n",
       "    </tr>\n",
       "    <tr>\n",
       "      <th>4</th>\n",
       "      <td>1</td>\n",
       "      <td>6.3</td>\n",
       "      <td>2</td>\n",
       "      <td>900.0</td>\n",
       "      <td>Dehiwala,  Colombo</td>\n",
       "      <td>Lakdinu Houses</td>\n",
       "      <td>Member</td>\n",
       "      <td>Dehiwala, Colombo, Sri Lanka</td>\n",
       "      <td>79.880242</td>\n",
       "      <td>6.838232</td>\n",
       "      <td>1300000</td>\n",
       "    </tr>\n",
       "    <tr>\n",
       "      <th>...</th>\n",
       "      <td>...</td>\n",
       "      <td>...</td>\n",
       "      <td>...</td>\n",
       "      <td>...</td>\n",
       "      <td>...</td>\n",
       "      <td>...</td>\n",
       "      <td>...</td>\n",
       "      <td>...</td>\n",
       "      <td>...</td>\n",
       "      <td>...</td>\n",
       "      <td>...</td>\n",
       "    </tr>\n",
       "    <tr>\n",
       "      <th>15322</th>\n",
       "      <td>1</td>\n",
       "      <td>15.0</td>\n",
       "      <td>3</td>\n",
       "      <td>1200.0</td>\n",
       "      <td>Nittambuwa,  Gampaha</td>\n",
       "      <td>EASY EVER (PVT) LTD</td>\n",
       "      <td>Premium-Member</td>\n",
       "      <td>Nittambuwa, Gampaha, Sri Lanka</td>\n",
       "      <td>80.095663</td>\n",
       "      <td>7.143816</td>\n",
       "      <td>6750000</td>\n",
       "    </tr>\n",
       "    <tr>\n",
       "      <th>15323</th>\n",
       "      <td>2</td>\n",
       "      <td>7.0</td>\n",
       "      <td>3</td>\n",
       "      <td>1100.0</td>\n",
       "      <td>Dehiwala,  Colombo</td>\n",
       "      <td>Glory Land</td>\n",
       "      <td>Member</td>\n",
       "      <td>Dehiwala, Colombo, Sri Lanka</td>\n",
       "      <td>79.880242</td>\n",
       "      <td>6.838232</td>\n",
       "      <td>70000000</td>\n",
       "    </tr>\n",
       "    <tr>\n",
       "      <th>15324</th>\n",
       "      <td>4</td>\n",
       "      <td>20.0</td>\n",
       "      <td>5</td>\n",
       "      <td>2750.0</td>\n",
       "      <td>Maharagama,  Colombo</td>\n",
       "      <td>JD Properties</td>\n",
       "      <td>Premium-Member</td>\n",
       "      <td>Maharagama, Colombo, Sri Lanka</td>\n",
       "      <td>79.923272</td>\n",
       "      <td>6.851146</td>\n",
       "      <td>44000000</td>\n",
       "    </tr>\n",
       "    <tr>\n",
       "      <th>15325</th>\n",
       "      <td>2</td>\n",
       "      <td>5.0</td>\n",
       "      <td>2</td>\n",
       "      <td>1350.0</td>\n",
       "      <td>Dehiwala,  Colombo</td>\n",
       "      <td>Glory Land</td>\n",
       "      <td>Member</td>\n",
       "      <td>Dehiwala, Colombo, Sri Lanka</td>\n",
       "      <td>79.880242</td>\n",
       "      <td>6.838232</td>\n",
       "      <td>15000000</td>\n",
       "    </tr>\n",
       "    <tr>\n",
       "      <th>15326</th>\n",
       "      <td>5</td>\n",
       "      <td>6.5</td>\n",
       "      <td>7</td>\n",
       "      <td>5000.0</td>\n",
       "      <td>Colombo 6,  Colombo</td>\n",
       "      <td>Sameera</td>\n",
       "      <td>Member</td>\n",
       "      <td>Colombo 6, Colombo, Sri Lanka</td>\n",
       "      <td>80.016670</td>\n",
       "      <td>6.866670</td>\n",
       "      <td>58000000</td>\n",
       "    </tr>\n",
       "  </tbody>\n",
       "</table>\n",
       "<p>15327 rows × 11 columns</p>\n",
       "</div>"
      ],
      "text/plain": [
       "       Baths  Land size  Beds  House size                 Location  \\\n",
       "0          1       50.0     3      1600.0     Matara City,  Matara   \n",
       "1          3        8.0     3      1480.0   Athurugiriya,  Colombo   \n",
       "2          2       20.0     3      2800.0       Kelaniya,  Gampaha   \n",
       "3          5       22.0     5      4000.0      Colombo 6,  Colombo   \n",
       "4          1        6.3     2       900.0       Dehiwala,  Colombo   \n",
       "...      ...        ...   ...         ...                      ...   \n",
       "15322      1       15.0     3      1200.0     Nittambuwa,  Gampaha   \n",
       "15323      2        7.0     3      1100.0       Dehiwala,  Colombo   \n",
       "15324      4       20.0     5      2750.0     Maharagama,  Colombo   \n",
       "15325      2        5.0     2      1350.0       Dehiwala,  Colombo   \n",
       "15326      5        6.5     7      5000.0      Colombo 6,  Colombo   \n",
       "\n",
       "                                    Seller_name     Seller_type  \\\n",
       "0                                Ishara Dilshan          Member   \n",
       "1                          DILRUWAN REAL ESTATE  Premium-Member   \n",
       "2                  Provident Paradise (Pvt) Ltd          Member   \n",
       "3      Colombo Construction Property Developers  Premium-Member   \n",
       "4                                Lakdinu Houses          Member   \n",
       "...                                         ...             ...   \n",
       "15322                       EASY EVER (PVT) LTD  Premium-Member   \n",
       "15323                                Glory Land          Member   \n",
       "15324                             JD Properties  Premium-Member   \n",
       "15325                                Glory Land          Member   \n",
       "15326                                   Sameera          Member   \n",
       "\n",
       "                            Geo_Address        Lat       Lon      price  \n",
       "0        Matara City, Matara, Sri Lanka  80.500000  6.166670    5400000  \n",
       "1      Athurugiriya, Colombo, Sri Lanka  79.989929  6.877246   16800000  \n",
       "2          Kelaniya, Gampaha, Sri Lanka  79.914926  6.951178   20000000  \n",
       "3         Colombo 6, Colombo, Sri Lanka  80.016670  6.866670  187000000  \n",
       "4          Dehiwala, Colombo, Sri Lanka  79.880242  6.838232    1300000  \n",
       "...                                 ...        ...       ...        ...  \n",
       "15322    Nittambuwa, Gampaha, Sri Lanka  80.095663  7.143816    6750000  \n",
       "15323      Dehiwala, Colombo, Sri Lanka  79.880242  6.838232   70000000  \n",
       "15324    Maharagama, Colombo, Sri Lanka  79.923272  6.851146   44000000  \n",
       "15325      Dehiwala, Colombo, Sri Lanka  79.880242  6.838232   15000000  \n",
       "15326     Colombo 6, Colombo, Sri Lanka  80.016670  6.866670   58000000  \n",
       "\n",
       "[15327 rows x 11 columns]"
      ]
     },
     "execution_count": 44,
     "metadata": {},
     "output_type": "execute_result"
    }
   ],
   "source": [
    "df"
   ]
  },
  {
   "cell_type": "code",
   "execution_count": 45,
   "id": "0830db29",
   "metadata": {},
   "outputs": [],
   "source": [
    "X=df.drop('price',axis=1)\n"
   ]
  },
  {
   "cell_type": "code",
   "execution_count": 46,
   "id": "2cd37cf6",
   "metadata": {},
   "outputs": [],
   "source": [
    "y=df.price"
   ]
  },
  {
   "cell_type": "code",
   "execution_count": 47,
   "id": "1bbfbd8a",
   "metadata": {},
   "outputs": [],
   "source": [
    "X=pd.get_dummies(X,drop_first=True)\n"
   ]
  },
  {
   "cell_type": "code",
   "execution_count": 48,
   "id": "e8b79ae7",
   "metadata": {},
   "outputs": [],
   "source": [
    "from sklearn.preprocessing import StandardScaler\n",
    "X=StandardScaler().fit_transform(X)"
   ]
  },
  {
   "cell_type": "code",
   "execution_count": 49,
   "id": "4e2b21d9",
   "metadata": {},
   "outputs": [],
   "source": [
    "y1=y.values-np.mean(y)"
   ]
  },
  {
   "cell_type": "code",
   "execution_count": 50,
   "id": "aa585326",
   "metadata": {},
   "outputs": [],
   "source": [
    "y=y1/np.std(y1)"
   ]
  },
  {
   "cell_type": "code",
   "execution_count": 51,
   "id": "afebccdd",
   "metadata": {},
   "outputs": [
    {
     "data": {
      "text/plain": [
       "array([-0.66345482, -0.41086545, -0.33996317, ...,  0.19180391,\n",
       "       -0.45074798,  0.50200137])"
      ]
     },
     "execution_count": 51,
     "metadata": {},
     "output_type": "execute_result"
    }
   ],
   "source": [
    "y"
   ]
  },
  {
   "cell_type": "code",
   "execution_count": 52,
   "id": "5e1f017a",
   "metadata": {},
   "outputs": [],
   "source": [
    "# y=y.values.reshape(15327,1)\n"
   ]
  },
  {
   "cell_type": "code",
   "execution_count": 53,
   "id": "3b147858",
   "metadata": {},
   "outputs": [
    {
     "data": {
      "text/plain": [
       "(15327, 1857)"
      ]
     },
     "execution_count": 53,
     "metadata": {},
     "output_type": "execute_result"
    }
   ],
   "source": [
    "X.shape"
   ]
  },
  {
   "cell_type": "code",
   "execution_count": 54,
   "id": "eb98e1ca",
   "metadata": {},
   "outputs": [
    {
     "data": {
      "text/plain": [
       "(15327,)"
      ]
     },
     "execution_count": 54,
     "metadata": {},
     "output_type": "execute_result"
    }
   ],
   "source": [
    "y.shape"
   ]
  },
  {
   "cell_type": "code",
   "execution_count": 55,
   "id": "9e6b3bdd",
   "metadata": {},
   "outputs": [],
   "source": [
    "from sklearn.model_selection import train_test_split"
   ]
  },
  {
   "cell_type": "code",
   "execution_count": 56,
   "id": "4858253f",
   "metadata": {},
   "outputs": [],
   "source": [
    "X_train,X_test,y_train,y_test=train_test_split(X,y,test_size=.3,random_state=42)"
   ]
  },
  {
   "cell_type": "code",
   "execution_count": 57,
   "id": "74b7c110",
   "metadata": {},
   "outputs": [],
   "source": [
    "# from sklearn.linear_model import LinearRegression\n",
    "from sklearn.tree import DecisionTreeRegressor"
   ]
  },
  {
   "cell_type": "code",
   "execution_count": 65,
   "id": "1b70b8bd",
   "metadata": {},
   "outputs": [],
   "source": [
    "from sklearn.neighbors import KNeighborsRegressor\n",
    "from sklearn.svm import SVR\n",
    "from sklearn.ensemble import GradientBoostingRegressor\n",
    "from sklearn.ensemble import RandomForestRegressor"
   ]
  },
  {
   "cell_type": "code",
   "execution_count": 58,
   "id": "948e4c22",
   "metadata": {},
   "outputs": [],
   "source": [
    "def model(var):\n",
    "    model=var()\n",
    "    model=model.fit(X_train,y_train)\n",
    "    p=model.predict(X_test)\n",
    "    return model.score(X_test,y_test)\n",
    "    \n",
    "    "
   ]
  },
  {
   "cell_type": "code",
   "execution_count": 60,
   "id": "61822dee",
   "metadata": {},
   "outputs": [],
   "source": [
    "model(KNeighborsRegressor)"
   ]
  },
  {
   "cell_type": "code",
   "execution_count": null,
   "id": "5141fb1e",
   "metadata": {},
   "outputs": [],
   "source": [
    "model(SVR)"
   ]
  },
  {
   "cell_type": "code",
   "execution_count": 63,
   "id": "eed6aa66",
   "metadata": {},
   "outputs": [
    {
     "data": {
      "text/plain": [
       "0.7061957318802181"
      ]
     },
     "execution_count": 63,
     "metadata": {},
     "output_type": "execute_result"
    }
   ],
   "source": [
    "model(GradientBoostingRegressor)"
   ]
  },
  {
   "cell_type": "code",
   "execution_count": null,
   "id": "218c9795",
   "metadata": {},
   "outputs": [],
   "source": []
  },
  {
   "cell_type": "code",
   "execution_count": null,
   "id": "f5c92cdc",
   "metadata": {},
   "outputs": [],
   "source": []
  },
  {
   "cell_type": "code",
   "execution_count": 61,
   "id": "095b49d1",
   "metadata": {},
   "outputs": [],
   "source": [
    "# model=LinearRegression()\n",
    "model=DecisionTreeRegressor()\n",
    "# model=RandomForestRegressor()# 71"
   ]
  },
  {
   "cell_type": "code",
   "execution_count": 62,
   "id": "525d2cbc",
   "metadata": {},
   "outputs": [],
   "source": [
    "model=model.fit(X_train,y_train)"
   ]
  },
  {
   "cell_type": "code",
   "execution_count": 63,
   "id": "9fd4d2d1",
   "metadata": {},
   "outputs": [],
   "source": [
    "p=model.predict(X_test)"
   ]
  },
  {
   "cell_type": "code",
   "execution_count": 64,
   "id": "5e66c863",
   "metadata": {},
   "outputs": [],
   "source": [
    "from sklearn.metrics import *\n"
   ]
  },
  {
   "cell_type": "code",
   "execution_count": 65,
   "id": "911d17a0",
   "metadata": {},
   "outputs": [
    {
     "data": {
      "text/plain": [
       "0.7517168942081761"
      ]
     },
     "execution_count": 65,
     "metadata": {},
     "output_type": "execute_result"
    }
   ],
   "source": [
    "model.score(X_test,y_test)"
   ]
  },
  {
   "cell_type": "code",
   "execution_count": 66,
   "id": "6f66495d",
   "metadata": {},
   "outputs": [
    {
     "data": {
      "text/plain": [
       "0.2934602836385874"
      ]
     },
     "execution_count": 66,
     "metadata": {},
     "output_type": "execute_result"
    }
   ],
   "source": [
    "mean_squared_error(y_test,p)"
   ]
  },
  {
   "cell_type": "code",
   "execution_count": 67,
   "id": "03d3a703",
   "metadata": {},
   "outputs": [
    {
     "data": {
      "text/plain": [
       "<AxesSubplot:>"
      ]
     },
     "execution_count": 67,
     "metadata": {},
     "output_type": "execute_result"
    },
    {
     "data": {
      "image/png": "[encoded data removed]",
      "text/plain": [
       "<Figure size 432x288 with 1 Axes>"
      ]
     },
     "metadata": {
      "needs_background": "light"
     },
     "output_type": "display_data"
    }
   ],
   "source": [
    "sns.scatterplot(x=p,y=y_test)\n",
    "sns.scatterplot(x=y_test,y=y_test)"
   ]
  },
  {
   "cell_type": "code",
   "execution_count": 68,
   "id": "9b14f2ed",
   "metadata": {},
   "outputs": [
    {
     "data": {
      "text/plain": [
       "0.7169963043347608"
      ]
     },
     "execution_count": 68,
     "metadata": {},
     "output_type": "execute_result"
    }
   ],
   "source": [
    "r2_score(p,y_test)"
   ]
  },
  {
   "cell_type": "markdown",
   "id": "41b46536",
   "metadata": {},
   "source": [
    "###   our model is 75% accurate  by using Decision tree"
   ]
  },
  {
   "cell_type": "code",
   "execution_count": null,
   "id": "fddcdbc8",
   "metadata": {},
   "outputs": [],
   "source": []
  },
  {
   "cell_type": "code",
   "execution_count": null,
   "id": "9e817ccc",
   "metadata": {},
   "outputs": [],
   "source": []
  }
 ],
 "metadata": {
  "kernelspec": {
   "display_name": "Python 3 (ipykernel)",
   "language": "python",
   "name": "python3"
  },
  "language_info": {
   "codemirror_mode": {
    "name": "ipython",
    "version": 3
   },
   "file_extension": ".py",
   "mimetype": "text/x-python",
   "name": "python",
   "nbconvert_exporter": "python",
   "pygments_lexer": "ipython3",
   "version": "3.9.7"
  },
  "toc": {
   "base_numbering": 1,
   "nav_menu": {},
   "number_sections": false,
   "sideBar": false,
   "skip_h1_title": false,
   "title_cell": "Table of Contents",
   "title_sidebar": "Contents",
   "toc_cell": false,
   "toc_position": {},
   "toc_section_display": false,
   "toc_window_display": false
  }
 },
 "nbformat": 4,
 "nbformat_minor": 5
}
